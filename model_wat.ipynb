{
 "cells": [
  {
   "cell_type": "code",
   "execution_count": 1,
   "metadata": {},
   "outputs": [],
   "source": [
    "import matplotlib.pyplot as plt\n",
    "import numpy as np\n",
    "import cv2\n",
    "import os\n",
    "from tensorflow.keras.preprocessing.image import ImageDataGenerator\n",
    "from tensorflow.keras.preprocessing import image\n",
    "from tensorflow.keras.optimizers import RMSprop"
   ]
  },
  {
   "cell_type": "code",
   "execution_count": null,
   "metadata": {},
   "outputs": [],
   "source": [
    "img = image.load_img(\"//content//drive//MyDrive//DataSet_wat//train//training//watpho//po1.png\")"
   ]
  },
  {
   "cell_type": "code",
   "execution_count": null,
   "metadata": {},
   "outputs": [],
   "source": [
    "plt.imshow(img)"
   ]
  },
  {
   "cell_type": "code",
   "execution_count": null,
   "metadata": {},
   "outputs": [],
   "source": [
    "cv2.imread(\"//content//drive//MyDrive//DataSet_wat//train//training//watpho//po1.png\")"
   ]
  },
  {
   "cell_type": "code",
   "execution_count": null,
   "metadata": {},
   "outputs": [],
   "source": [
    "train = ImageDataGenerator(rescale= 1/255)\n",
    "validation = ImageDataGenerator(rescale = 1/255)"
   ]
  },
  {
   "cell_type": "code",
   "execution_count": null,
   "metadata": {},
   "outputs": [],
   "source": [
    "train_dataset = train.flow_from_directory(\"//content//drive//MyDrive//DataSet_wat//train\",\n",
    "                                          target_size=(200,200),\n",
    "                                          batch_size = 3,\n",
    "                                          class_mode = \"binary\")\n",
    "validation_dataset = validation.flow_from_directory(\"//content//drive//MyDrive//DataSet_wat//train//validation\",\n",
    "                                                    target_size=(200,200),\n",
    "                                                    batch_size = 3,\n",
    "                                                    class_mode = \"binary\")"
   ]
  },
  {
   "cell_type": "code",
   "execution_count": 3,
   "metadata": {},
   "outputs": [
    {
     "ename": "NameError",
     "evalue": "name 'train_dataset' is not defined",
     "output_type": "error",
     "traceback": [
      "\u001b[1;31m---------------------------------------------------------------------------\u001b[0m",
      "\u001b[1;31mNameError\u001b[0m                                 Traceback (most recent call last)",
      "\u001b[1;32mUntitled-1.ipynb Cell 7'\u001b[0m in \u001b[0;36m<cell line: 1>\u001b[1;34m()\u001b[0m\n\u001b[1;32m----> <a href='vscode-notebook-cell:Untitled-1.ipynb?jupyter-notebook#ch0000006untitled?line=0'>1</a>\u001b[0m train_dataset\u001b[39m.\u001b[39mclass_indices\n",
      "\u001b[1;31mNameError\u001b[0m: name 'train_dataset' is not defined"
     ]
    }
   ],
   "source": [
    "train_dataset.class_indices"
   ]
  },
  {
   "cell_type": "code",
   "execution_count": null,
   "metadata": {},
   "outputs": [],
   "source": [
    "train_dataset.classes"
   ]
  },
  {
   "cell_type": "code",
   "execution_count": null,
   "metadata": {},
   "outputs": [],
   "source": [
    "model = tf.keras.models.Sequential([tf.keras.layers.Conv2D(16,(3,3),activation=\"relu\",input_shape = (200,200,3)),\n",
    "                                   tf.keras.layers.MaxPool2D(2,2),\n",
    "                                   #\n",
    "                                   tf.keras.layers.Conv2D(32,(3,3),activation = \"relu\"),\n",
    "                                   tf.keras.layers.MaxPool2D(2,2),\n",
    "                                   #\n",
    "                                   tf.keras.layers.Conv2D(64,(3,3),activation = \"relu\"),\n",
    "                                   tf.keras.layers.MaxPool2D(2,2),\n",
    "                                   #\n",
    "                                   tf.keras.layers.Flatten(),\n",
    "                                   #\n",
    "                                   tf.keras.layers.Dense(512,activation=\"relu\"),\n",
    "                                   #\n",
    "                                   tf.keras.layers.Dense(1,activation=\"sigmoid\")\n",
    "                                   ])"
   ]
  },
  {
   "cell_type": "code",
   "execution_count": null,
   "metadata": {},
   "outputs": [],
   "source": [
    "model.compile(loss=\"binary_crossentropy\",\n",
    "               optimizer = RMSprop(lr=0.001),\n",
    "               metrics = ['accuracy'])"
   ]
  },
  {
   "cell_type": "code",
   "execution_count": null,
   "metadata": {},
   "outputs": [],
   "source": [
    "model_fit = model.fit(train_dataset,\n",
    "                      steps_per_epoch = 3,\n",
    "                      epochs = 100,\n",
    "                      validation_data = validation_dataset\n",
    "                      )"
   ]
  },
  {
   "cell_type": "code",
   "execution_count": null,
   "metadata": {},
   "outputs": [],
   "source": [
    "validation_dataset.class_indices"
   ]
  },
  {
   "cell_type": "code",
   "execution_count": null,
   "metadata": {},
   "outputs": [],
   "source": [
    "dir_path = '//content//drive//MyDrive//DataSet_wat//train//testing//test_ml'\n",
    "\n",
    "for i in os.listdir(dir_path):\n",
    "    img = image.load_img(dir_path + \"//\"+ i,target_size=(200,200))\n",
    "    plt.imshow(img)\n",
    "    plt.show()\n",
    "\n",
    "    X = image.img_to_array(img)\n",
    "    X = np.expand_dims(X,axis=0)\n",
    "    images = np.vstack([X])\n",
    "    val = model.predict(images)\n",
    "    if val == 0:\n",
    "      print(\"watpho\")\n",
    "    else:\n",
    "      print(\"watprakaew\")"
   ]
  }
 ],
 "metadata": {
  "interpreter": {
   "hash": "e449d3139ce1c96ae2650fc2e27938fe4a1f8c8b2e26e4bf25e99f9f2bd2ddd8"
  },
  "kernelspec": {
   "display_name": "Python 3.8.13 ('jy')",
   "language": "python",
   "name": "python3"
  },
  "language_info": {
   "codemirror_mode": {
    "name": "ipython",
    "version": 3
   },
   "file_extension": ".py",
   "mimetype": "text/x-python",
   "name": "python",
   "nbconvert_exporter": "python",
   "pygments_lexer": "ipython3",
   "version": "3.8.13"
  },
  "orig_nbformat": 4
 },
 "nbformat": 4,
 "nbformat_minor": 2
}
